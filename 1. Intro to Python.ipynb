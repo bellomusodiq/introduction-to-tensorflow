{
 "cells": [
  {
   "cell_type": "markdown",
   "id": "b15520fc",
   "metadata": {},
   "source": [
    "# Introduction to Python\n",
    "\n",
    "Python is a high-level, dynamically typed programming language\n",
    "\n",
    "It is important to understand the basis of python and object oriented programming in this course\n",
    "\n",
    "Extra learning materials\n",
    "\n",
    "https://www.youtube.com/watch?v=eWRfhZUzrAc&list=PLWKjhJtqVAbnqBxcdjVGgT3uVR10bzTEB\n",
    "\n",
    "https://www.tutorialspoint.com/python/index.htm"
   ]
  },
  {
   "cell_type": "code",
   "execution_count": null,
   "id": "85a181a9",
   "metadata": {},
   "outputs": [],
   "source": []
  },
  {
   "cell_type": "markdown",
   "id": "d2a3fcc5",
   "metadata": {},
   "source": [
    "## Variables and Data Types\n",
    "variable is a memory location where you store values\n",
    "\n",
    "Data type represents a type of the data which you can process using your computer program\n",
    "1. Numeric\n",
    "2. Boolean\n",
    "3. String\n",
    "4. List\n",
    "5. Dictionary\n",
    "6. Tupple\n",
    "7. Sets"
   ]
  },
  {
   "cell_type": "code",
   "execution_count": 1,
   "id": "0ddaa1a2",
   "metadata": {},
   "outputs": [
    {
     "name": "stdout",
     "output_type": "stream",
     "text": [
      "10\n",
      "-15\n"
     ]
    }
   ],
   "source": [
    "num1 = 10\n",
    "num2 = -15\n",
    "\n",
    "print(num1)\n",
    "print(num2)"
   ]
  },
  {
   "cell_type": "code",
   "execution_count": 2,
   "id": "0e8da690",
   "metadata": {},
   "outputs": [
    {
     "name": "stdout",
     "output_type": "stream",
     "text": [
      "True\n",
      "False\n"
     ]
    }
   ],
   "source": [
    "bol1 = True\n",
    "bol2 = False\n",
    "\n",
    "print(bol1)\n",
    "print(bol2)"
   ]
  },
  {
   "cell_type": "code",
   "execution_count": 3,
   "id": "2b3baffe",
   "metadata": {},
   "outputs": [
    {
     "name": "stdout",
     "output_type": "stream",
     "text": [
      "Hello world!\n",
      "0123\n"
     ]
    }
   ],
   "source": [
    "str1 = \"Hello world!\"\n",
    "str2 = \"0123\"\n",
    "\n",
    "print(str1)\n",
    "print(str2)"
   ]
  },
  {
   "cell_type": "code",
   "execution_count": 4,
   "id": "44f0417a",
   "metadata": {},
   "outputs": [
    {
     "name": "stdout",
     "output_type": "stream",
     "text": [
      "[1, 2, 3, 4, 5]\n",
      "['apple', 'mango', 'grapes']\n"
     ]
    }
   ],
   "source": [
    "list1 = [1, 2, 3, 4, 5]\n",
    "list2 = [\"apple\", \"mango\", \"grapes\"]\n",
    "\n",
    "print(list1)\n",
    "print(list2)"
   ]
  },
  {
   "cell_type": "code",
   "execution_count": 5,
   "id": "ff688e33",
   "metadata": {},
   "outputs": [
    {
     "name": "stdout",
     "output_type": "stream",
     "text": [
      "{'name': 'john', 'course': 'Intro to Python', 'programming language': 'Python', 'experience': 4, 'hobbies': ['cooking', 'sports']}\n"
     ]
    }
   ],
   "source": [
    "dict1 = {\n",
    "    \"name\": \"john\",\n",
    "    \"course\": \"Intro to Python\",\n",
    "    \"programming language\": \"Python\",\n",
    "    \"experience\": 4,\n",
    "    \"hobbies\": [\"cooking\", \"sports\"]\n",
    "}\n",
    "print(dict1)"
   ]
  },
  {
   "cell_type": "code",
   "execution_count": 6,
   "id": "0ec53cec",
   "metadata": {
    "scrolled": true
   },
   "outputs": [
    {
     "name": "stdout",
     "output_type": "stream",
     "text": [
      "('Mon', 'Tue', 'Wed', 'Thur', 'Fri', 'Sat', 'Sun')\n"
     ]
    }
   ],
   "source": [
    "tup = (\"Mon\", \"Tue\", \"Wed\", \"Thur\", \"Fri\", \"Sat\", \"Sun\")\n",
    "print(tup)"
   ]
  },
  {
   "cell_type": "markdown",
   "id": "bf3d8956",
   "metadata": {},
   "source": [
    "### Assignment\n",
    "\n",
    "Create one of each data types and print as show above in the various examples"
   ]
  },
  {
   "cell_type": "code",
   "execution_count": 7,
   "id": "65c70cb7",
   "metadata": {},
   "outputs": [],
   "source": [
    "# your assignment here, you can create as many cell as you need"
   ]
  },
  {
   "cell_type": "markdown",
   "id": "f90d3893",
   "metadata": {},
   "source": [
    "## Operators and Decision making\n",
    "\n",
    "Operators and the mathematical operation such as\n",
    "1. Addition +\n",
    "2. Subtraction - \n",
    "3. Multiplication x\n",
    "4. Division / \n",
    "5. Modulus % : remainder after division\n",
    "6. Exponent ** : raised to the power of\n",
    "7. Floor division : division without decimal or remainder\n",
    "\n",
    "Decision making is anticipation of conditions occurring while execution of the program and specifying actions taken according to the conditions."
   ]
  },
  {
   "cell_type": "code",
   "execution_count": 8,
   "id": "bf0275a8",
   "metadata": {},
   "outputs": [
    {
     "name": "stdout",
     "output_type": "stream",
     "text": [
      "22\n"
     ]
    }
   ],
   "source": [
    "num1 = 10\n",
    "num2 = 12\n",
    "\n",
    "add1 = num1 + num2\n",
    "print(add1)"
   ]
  },
  {
   "cell_type": "code",
   "execution_count": 9,
   "id": "63921561",
   "metadata": {},
   "outputs": [
    {
     "name": "stdout",
     "output_type": "stream",
     "text": [
      "-2\n"
     ]
    }
   ],
   "source": [
    "sub1 = num1 - num2\n",
    "print(sub1)"
   ]
  },
  {
   "cell_type": "code",
   "execution_count": 10,
   "id": "935b2924",
   "metadata": {},
   "outputs": [
    {
     "name": "stdout",
     "output_type": "stream",
     "text": [
      "20\n"
     ]
    }
   ],
   "source": [
    "mul1 = num1 * 2\n",
    "print(mul1)"
   ]
  },
  {
   "cell_type": "code",
   "execution_count": 11,
   "id": "0c7bd427",
   "metadata": {},
   "outputs": [
    {
     "name": "stdout",
     "output_type": "stream",
     "text": [
      "1.2\n"
     ]
    }
   ],
   "source": [
    "div1 = num2 / 10\n",
    "print(div1)"
   ]
  },
  {
   "cell_type": "code",
   "execution_count": 12,
   "id": "49c905a0",
   "metadata": {},
   "outputs": [
    {
     "data": {
      "text/plain": [
       "2"
      ]
     },
     "execution_count": 12,
     "metadata": {},
     "output_type": "execute_result"
    }
   ],
   "source": [
    "num2 % 5"
   ]
  },
  {
   "cell_type": "code",
   "execution_count": 13,
   "id": "848e02a3",
   "metadata": {},
   "outputs": [
    {
     "data": {
      "text/plain": [
       "100"
      ]
     },
     "execution_count": 13,
     "metadata": {},
     "output_type": "execute_result"
    }
   ],
   "source": [
    "10 ** 2"
   ]
  },
  {
   "cell_type": "code",
   "execution_count": 14,
   "id": "d9f52928",
   "metadata": {},
   "outputs": [
    {
     "data": {
      "text/plain": [
       "2"
      ]
     },
     "execution_count": 14,
     "metadata": {},
     "output_type": "execute_result"
    }
   ],
   "source": [
    "5 // 2"
   ]
  },
  {
   "cell_type": "markdown",
   "id": "6e15a52b",
   "metadata": {},
   "source": [
    "#### Decision making\n",
    "Python use indentation to indicate a block of code"
   ]
  },
  {
   "cell_type": "code",
   "execution_count": 15,
   "id": "894cf2ad",
   "metadata": {},
   "outputs": [
    {
     "name": "stdout",
     "output_type": "stream",
     "text": [
      "variable equals one hundred\n",
      "Done, Bye!\n"
     ]
    }
   ],
   "source": [
    "# statement is true\n",
    "var = 100\n",
    "if var == 100:\n",
    "    print(\"variable equals one hundred\")\n",
    "print(\"Done, Bye!\")"
   ]
  },
  {
   "cell_type": "code",
   "execution_count": 16,
   "id": "7e281ef5",
   "metadata": {},
   "outputs": [
    {
     "name": "stdout",
     "output_type": "stream",
     "text": [
      "Done, Bye!\n"
     ]
    }
   ],
   "source": [
    "# statement is false\n",
    "if var < 100:\n",
    "    print(\"variable less than one hundred\")\n",
    "print(\"Done, Bye!\")"
   ]
  },
  {
   "cell_type": "code",
   "execution_count": 17,
   "id": "16a31e50",
   "metadata": {},
   "outputs": [
    {
     "name": "stdout",
     "output_type": "stream",
     "text": [
      "variable is not equal to two hundred\n"
     ]
    }
   ],
   "source": [
    "# statement is true\n",
    "if var != 200:\n",
    "    print(\"variable is not equal to two hundred\")"
   ]
  },
  {
   "cell_type": "markdown",
   "id": "6ffe4f89",
   "metadata": {},
   "source": [
    "#### Assignement\n",
    "use the greater than sign > , less than or equal <= and greater or equal >= to create and if statement block"
   ]
  },
  {
   "cell_type": "code",
   "execution_count": null,
   "id": "8b768c52",
   "metadata": {},
   "outputs": [],
   "source": []
  },
  {
   "cell_type": "markdown",
   "id": "a38c0f41",
   "metadata": {},
   "source": [
    "### Loops\n",
    "you can loop trough a list, tuple, range and also loop while a condition is true"
   ]
  },
  {
   "cell_type": "code",
   "execution_count": 18,
   "id": "ab41fb26",
   "metadata": {},
   "outputs": [
    {
     "name": "stdout",
     "output_type": "stream",
     "text": [
      "2\n",
      "10\n",
      "34\n",
      "40\n",
      "44\n",
      "48\n"
     ]
    }
   ],
   "source": [
    "numbers = [1, 5, 17, 20, 22, 24]\n",
    "for num in numbers:\n",
    "    # do something\n",
    "    print(num * 2)"
   ]
  },
  {
   "cell_type": "code",
   "execution_count": 19,
   "id": "02dd3550",
   "metadata": {},
   "outputs": [
    {
     "name": "stdout",
     "output_type": "stream",
     "text": [
      "0 0\n",
      "1 5\n",
      "2 10\n",
      "3 15\n",
      "4 20\n",
      "5 25\n",
      "6 30\n",
      "7 35\n",
      "8 40\n",
      "9 45\n",
      "10 50\n",
      "11 55\n"
     ]
    }
   ],
   "source": [
    "for i in range(12):\n",
    "    print(i, i * 5)"
   ]
  },
  {
   "cell_type": "code",
   "execution_count": 20,
   "id": "3d4a1afe",
   "metadata": {
    "scrolled": false
   },
   "outputs": [
    {
     "name": "stdout",
     "output_type": "stream",
     "text": [
      "coundown 10\n",
      "coundown 9\n",
      "coundown 8\n",
      "coundown 7\n",
      "coundown 6\n",
      "coundown 5\n",
      "coundown 4\n",
      "coundown 3\n",
      "coundown 2\n",
      "coundown 1\n",
      "Done\n"
     ]
    }
   ],
   "source": [
    "start_number = 10\n",
    "while start_number > 0:\n",
    "    print(\"coundown\", start_number)\n",
    "    start_number -= 1\n",
    "print(\"Done\")"
   ]
  },
  {
   "cell_type": "markdown",
   "id": "691398af",
   "metadata": {},
   "source": [
    "#### Assignment\n",
    "1. create a list of your favorite foods and loop through it\n",
    "2. using while loop create a multiplication of 11 for 1 - 100"
   ]
  },
  {
   "cell_type": "code",
   "execution_count": null,
   "id": "20f5aa5e",
   "metadata": {},
   "outputs": [],
   "source": []
  },
  {
   "cell_type": "markdown",
   "id": "cc8ed6ff",
   "metadata": {},
   "source": [
    "### List, tuple and dictionary"
   ]
  },
  {
   "cell_type": "code",
   "execution_count": 21,
   "id": "7a09d4a3",
   "metadata": {},
   "outputs": [],
   "source": [
    "list_of_fruits = [\n",
    "    \"apple\",\n",
    "    \"mango\",\n",
    "    \"bannana\",\n",
    "    \"grapes\",\n",
    "]"
   ]
  },
  {
   "cell_type": "code",
   "execution_count": 23,
   "id": "40a2c69e",
   "metadata": {},
   "outputs": [
    {
     "name": "stdout",
     "output_type": "stream",
     "text": [
      "apple\n",
      "bannana\n",
      "mango\n"
     ]
    }
   ],
   "source": [
    "# accessing items in a list\n",
    "print(list_of_fruits[0])\n",
    "print(list_of_fruits[2])\n",
    "print(list_of_fruits[-3])"
   ]
  },
  {
   "cell_type": "code",
   "execution_count": 26,
   "id": "916d1b5d",
   "metadata": {},
   "outputs": [
    {
     "name": "stdout",
     "output_type": "stream",
     "text": [
      "['apple', 'mango', 'bannana', 'grapes', 'orange']\n"
     ]
    }
   ],
   "source": [
    "# adding a new item to a list\n",
    "list_of_fruits.append(\"orange\")\n",
    "print(list_of_fruits)"
   ]
  },
  {
   "cell_type": "code",
   "execution_count": 27,
   "id": "a64b1865",
   "metadata": {},
   "outputs": [
    {
     "name": "stdout",
     "output_type": "stream",
     "text": [
      "['apple', 'mango', 'bannana', 'grapes', 'orange']\n"
     ]
    },
    {
     "data": {
      "text/plain": [
       "['apple', 'mango', 'bannana', 'grapes']"
      ]
     },
     "execution_count": 27,
     "metadata": {},
     "output_type": "execute_result"
    }
   ],
   "source": [
    "# removing last item from a list\n",
    "print(list_of_fruits)\n",
    "list_of_fruits.pop()\n",
    "list_of_fruits"
   ]
  },
  {
   "cell_type": "code",
   "execution_count": 28,
   "id": "1fd378ef",
   "metadata": {},
   "outputs": [
    {
     "name": "stdout",
     "output_type": "stream",
     "text": [
      "['apple', 'mango', 'bannana', 'grapes']\n"
     ]
    },
    {
     "data": {
      "text/plain": [
       "['apple', 'mango', 'grapes']"
      ]
     },
     "execution_count": 28,
     "metadata": {},
     "output_type": "execute_result"
    }
   ],
   "source": [
    "# removing item from a list at a particular index\n",
    "print(list_of_fruits)\n",
    "list_of_fruits.pop(2)\n",
    "list_of_fruits"
   ]
  },
  {
   "cell_type": "code",
   "execution_count": 29,
   "id": "79894405",
   "metadata": {},
   "outputs": [
    {
     "name": "stdout",
     "output_type": "stream",
     "text": [
      "['apple', 'mango', 'grapes']\n"
     ]
    },
    {
     "data": {
      "text/plain": [
       "['apple', 'kiwi', 'mango', 'grapes']"
      ]
     },
     "execution_count": 29,
     "metadata": {},
     "output_type": "execute_result"
    }
   ],
   "source": [
    "# adding a new item to a list at a particular index\n",
    "print(list_of_fruits)\n",
    "list_of_fruits.insert(1, \"kiwi\")\n",
    "list_of_fruits"
   ]
  },
  {
   "cell_type": "code",
   "execution_count": 32,
   "id": "cb209641",
   "metadata": {},
   "outputs": [
    {
     "name": "stdout",
     "output_type": "stream",
     "text": [
      "['apple', 'kiwi', 'mango', 'grapes']\n"
     ]
    },
    {
     "data": {
      "text/plain": [
       "['apple', 'banana', 'mango', 'grapes']"
      ]
     },
     "execution_count": 32,
     "metadata": {},
     "output_type": "execute_result"
    }
   ],
   "source": [
    "# change item in a list\n",
    "print(list_of_fruits)\n",
    "list_of_fruits[1] = \"banana\"\n",
    "list_of_fruits"
   ]
  },
  {
   "cell_type": "code",
   "execution_count": 31,
   "id": "ff794106",
   "metadata": {},
   "outputs": [
    {
     "data": {
      "text/plain": [
       "4"
      ]
     },
     "execution_count": 31,
     "metadata": {},
     "output_type": "execute_result"
    }
   ],
   "source": [
    "# length of list\n",
    "len(list_of_fruits)"
   ]
  },
  {
   "cell_type": "markdown",
   "id": "e7a0cabb",
   "metadata": {},
   "source": [
    "#### Assignment\n",
    "create a list and carry out the list operations mentioned above"
   ]
  },
  {
   "cell_type": "code",
   "execution_count": null,
   "id": "75844a61",
   "metadata": {},
   "outputs": [],
   "source": []
  },
  {
   "cell_type": "code",
   "execution_count": 30,
   "id": "12e7a37a",
   "metadata": {},
   "outputs": [],
   "source": [
    "# Tuple\n",
    "days_of_the_week = (\"Monday\", \"Tuesday\", \"Wednesday\", \"Thursday\", \"Friday\", \"Saturaday\", \"Sunday\")"
   ]
  },
  {
   "cell_type": "markdown",
   "id": "9ea8647c",
   "metadata": {},
   "source": [
    "#### Assignment\n",
    "carry out the list operations mentioned above to the tuple days_of_the_week and observe the failed cases"
   ]
  },
  {
   "cell_type": "code",
   "execution_count": null,
   "id": "8d12da9c",
   "metadata": {},
   "outputs": [],
   "source": []
  },
  {
   "cell_type": "code",
   "execution_count": 35,
   "id": "6998c229",
   "metadata": {},
   "outputs": [],
   "source": [
    "# dictionary: key-value pair\n",
    "person = {\n",
    "    \"name\": \"John\",\n",
    "    \"age\": 30,\n",
    "    \"gender\": \"Male\",\n",
    "    \"height\": 180.0,\n",
    "    \"weight\": 75.5,\n",
    "    \"eye_color\": \"Brown\",\n",
    "    \"hair_color\": \"Black\",\n",
    "    \"skin_color\": \"Fair\",\n",
    "    \"occupation\": \"Software Developer\"\n",
    "}"
   ]
  },
  {
   "cell_type": "code",
   "execution_count": 36,
   "id": "a0bc1670",
   "metadata": {},
   "outputs": [
    {
     "name": "stdout",
     "output_type": "stream",
     "text": [
      "John\n",
      "Male\n",
      "Software Developer\n"
     ]
    }
   ],
   "source": [
    "# geting item in a dict\n",
    "print(person[\"name\"])\n",
    "print(person[\"gender\"])\n",
    "print(person[\"occupation\"])"
   ]
  },
  {
   "cell_type": "code",
   "execution_count": 37,
   "id": "2e2285b3",
   "metadata": {},
   "outputs": [
    {
     "name": "stdout",
     "output_type": "stream",
     "text": [
      "{'name': 'John', 'age': 30, 'gender': 'Male', 'height': 180.0, 'weight': 75.5, 'eye_color': 'Brown', 'hair_color': 'Black', 'skin_color': 'Fair', 'occupation': 'Software Developer'}\n"
     ]
    },
    {
     "data": {
      "text/plain": [
       "{'name': 'John',\n",
       " 'age': 30,\n",
       " 'gender': 'Male',\n",
       " 'height': 180.0,\n",
       " 'weight': 75.5,\n",
       " 'eye_color': 'Brown',\n",
       " 'hair_color': 'Black',\n",
       " 'skin_color': 'Fair',\n",
       " 'occupation': 'Software Developer',\n",
       " 'location': 'San Fransisco'}"
      ]
     },
     "execution_count": 37,
     "metadata": {},
     "output_type": "execute_result"
    }
   ],
   "source": [
    "# adding new key value pair\n",
    "print(person)\n",
    "person[\"location\"] = \"San Fransisco\"\n",
    "person"
   ]
  },
  {
   "cell_type": "code",
   "execution_count": 38,
   "id": "d4205c3f",
   "metadata": {},
   "outputs": [
    {
     "name": "stdout",
     "output_type": "stream",
     "text": [
      "{'name': 'John', 'age': 30, 'gender': 'Male', 'height': 180.0, 'weight': 75.5, 'eye_color': 'Brown', 'hair_color': 'Black', 'skin_color': 'Fair', 'occupation': 'Software Developer', 'location': 'San Fransisco'}\n"
     ]
    },
    {
     "data": {
      "text/plain": [
       "{'name': 'John',\n",
       " 'age': 30,\n",
       " 'gender': 'Male',\n",
       " 'height': 180.0,\n",
       " 'eye_color': 'Brown',\n",
       " 'hair_color': 'Black',\n",
       " 'skin_color': 'Fair',\n",
       " 'occupation': 'Software Developer',\n",
       " 'location': 'San Fransisco'}"
      ]
     },
     "execution_count": 38,
     "metadata": {},
     "output_type": "execute_result"
    }
   ],
   "source": [
    "# removing item from a dict\n",
    "print(person)\n",
    "del person[\"weight\"]\n",
    "person"
   ]
  },
  {
   "cell_type": "code",
   "execution_count": 39,
   "id": "2eec0635",
   "metadata": {},
   "outputs": [
    {
     "name": "stdout",
     "output_type": "stream",
     "text": [
      "{'name': 'John', 'age': 30, 'gender': 'Male', 'height': 180.0, 'eye_color': 'Brown', 'hair_color': 'Black', 'skin_color': 'Fair', 'occupation': 'Software Developer', 'location': 'San Fransisco'}\n"
     ]
    },
    {
     "data": {
      "text/plain": [
       "{'name': 'John',\n",
       " 'age': 30,\n",
       " 'gender': 'Male',\n",
       " 'height': 180.0,\n",
       " 'eye_color': 'Black',\n",
       " 'hair_color': 'Black',\n",
       " 'skin_color': 'Fair',\n",
       " 'occupation': 'Software Developer',\n",
       " 'location': 'San Fransisco'}"
      ]
     },
     "execution_count": 39,
     "metadata": {},
     "output_type": "execute_result"
    }
   ],
   "source": [
    "# updating an item in a dict\n",
    "print(person)\n",
    "person[\"eye_color\"] = \"Black\"\n",
    "person"
   ]
  },
  {
   "cell_type": "code",
   "execution_count": 40,
   "id": "822b82a3",
   "metadata": {},
   "outputs": [
    {
     "ename": "KeyError",
     "evalue": "'sex'",
     "output_type": "error",
     "traceback": [
      "\u001b[0;31m---------------------------------------------------------------------------\u001b[0m",
      "\u001b[0;31mKeyError\u001b[0m                                  Traceback (most recent call last)",
      "Cell \u001b[0;32mIn[40], line 2\u001b[0m\n\u001b[1;32m      1\u001b[0m \u001b[38;5;66;03m# getting an item that might not be there\u001b[39;00m\n\u001b[0;32m----> 2\u001b[0m \u001b[43mperson\u001b[49m\u001b[43m[\u001b[49m\u001b[38;5;124;43m\"\u001b[39;49m\u001b[38;5;124;43msex\u001b[39;49m\u001b[38;5;124;43m\"\u001b[39;49m\u001b[43m]\u001b[49m\n",
      "\u001b[0;31mKeyError\u001b[0m: 'sex'"
     ]
    }
   ],
   "source": [
    "# getting an item that might not be there\n",
    "person[\"sex\"]"
   ]
  },
  {
   "cell_type": "code",
   "execution_count": 42,
   "id": "cf8fca47",
   "metadata": {},
   "outputs": [
    {
     "name": "stdout",
     "output_type": "stream",
     "text": [
      "None\n"
     ]
    }
   ],
   "source": [
    "print(person.get(\"sex\"))"
   ]
  },
  {
   "cell_type": "markdown",
   "id": "6bca5947",
   "metadata": {},
   "source": [
    "### Functions\n",
    "\n",
    "A function is a block of organized, reusable code that is used to perform a single, related action. Functions provide better modularity for your application and a high degree of code reusing.\n"
   ]
  },
  {
   "cell_type": "code",
   "execution_count": 43,
   "id": "ff867b28",
   "metadata": {},
   "outputs": [
    {
     "name": "stdout",
     "output_type": "stream",
     "text": [
      "welcome to Python refresher course John\n",
      "welcome to Python refresher course Mike\n"
     ]
    }
   ],
   "source": [
    "def welcome_text(name):\n",
    "    welcome = f\"welcome to Python refresher course {name}\"\n",
    "    return welcome\n",
    "\n",
    "welcome_john = welcome_text(\"John\")\n",
    "print(welcome_john)\n",
    "welcome_mike = welcome_text(\"Mike\")\n",
    "print(welcome_mike)"
   ]
  },
  {
   "cell_type": "code",
   "execution_count": 46,
   "id": "3455c441",
   "metadata": {},
   "outputs": [],
   "source": [
    "def mean(arr):\n",
    "    sum_ = 0\n",
    "    for num in arr:\n",
    "        sum_ += num\n",
    "    num_count = len(arr)\n",
    "    return sum_ / num_count"
   ]
  },
  {
   "cell_type": "code",
   "execution_count": 47,
   "id": "33b2f8b8",
   "metadata": {},
   "outputs": [
    {
     "data": {
      "text/plain": [
       "3.0"
      ]
     },
     "execution_count": 47,
     "metadata": {},
     "output_type": "execute_result"
    }
   ],
   "source": [
    "mean([1,2,3,4,5])"
   ]
  },
  {
   "cell_type": "code",
   "execution_count": 48,
   "id": "3e3a4ceb",
   "metadata": {},
   "outputs": [
    {
     "data": {
      "text/plain": [
       "24.4"
      ]
     },
     "execution_count": 48,
     "metadata": {},
     "output_type": "execute_result"
    }
   ],
   "source": [
    "mean([45,60,12,4,1])"
   ]
  },
  {
   "cell_type": "markdown",
   "id": "ac823c74",
   "metadata": {},
   "source": [
    "#### Assignment\n",
    "\n",
    "create a function that calculates a standard deviation of a list\n",
    "hint: use the mean function created above"
   ]
  },
  {
   "cell_type": "code",
   "execution_count": null,
   "id": "7bf2513a",
   "metadata": {},
   "outputs": [],
   "source": []
  },
  {
   "cell_type": "markdown",
   "id": "85972c54",
   "metadata": {},
   "source": [
    "### Object Oriented Programming\n",
    "\n",
    "**Overview of OOP Terminology\n",
    "\n",
    "**Class** − A user-defined prototype for an object that defines a set of attributes that characterize any object of the class. The attributes are data members (class variables and instance variables) and methods, accessed via dot notation.\n",
    "\n",
    "**Class variable** − A variable that is shared by all instances of a class. Class variables are defined within a class but outside any of the class's methods. Class variables are not used as frequently as instance variables are.\n",
    "\n",
    "**Data member** − A class variable or instance variable that holds data associated with a class and its objects.\n",
    "\n",
    "**Inheritance** − The transfer of the characteristics of a class to other classes that are derived from it.\n",
    "\n",
    "**Instance** − An individual object of a certain class. An object obj that belongs to a class Circle, for example, is an instance of the class Circle.\n",
    "\n",
    "**Instantiation** − The creation of an instance of a class.\n",
    "\n",
    "**Method** − A special kind of function that is defined in a class definition.\n",
    "\n",
    "**Object** − A unique instance of a data structure that's defined by its class. An object comprises both data members (class variables and instance variables) and methods.\n",
    "\n"
   ]
  },
  {
   "cell_type": "code",
   "execution_count": 56,
   "id": "04312dd9",
   "metadata": {},
   "outputs": [],
   "source": [
    "class Person:\n",
    "    def __init__(self, name, age):\n",
    "        self.name = name\n",
    "        self.age = age\n",
    "        self.hair_color = \"\"\n",
    "        self.gender = \"\"\n",
    "        self.height = \"\"\n",
    "        self.eye_color = \"\"\n",
    "        \n",
    "    def print_person_info(self):\n",
    "        print(\"name\", self.name)\n",
    "        print(\"age\", self.age)\n",
    "        if self.hair_color:\n",
    "            print(\"hair color\", self.hair_color)\n",
    "        if self.gender:\n",
    "            print(\"gender\", self.gender)\n",
    "        if self.height:\n",
    "            print(\"height\", self.height)\n",
    "        if self.eye_color:\n",
    "            print(\"eye color\", self.eye_color)\n",
    "            \n",
    "    def change_name(self, new_name):\n",
    "        old_name = self.name\n",
    "        self.name = new_name\n",
    "        print(f\"name changed from {old_name} to {new_name}\")\n",
    "        \n",
    "    def change_age(self, new_age):\n",
    "        old_age = self.age\n",
    "        self.age = new_age\n",
    "        \n",
    "    def change_height(self, height):\n",
    "        self.height = height\n",
    "        \n",
    "    # TODO: complete for the rest of properties"
   ]
  },
  {
   "cell_type": "code",
   "execution_count": 57,
   "id": "6a7f341b",
   "metadata": {},
   "outputs": [],
   "source": [
    "# object of the class\n",
    "john = Person(\"John\", 20)"
   ]
  },
  {
   "cell_type": "code",
   "execution_count": 54,
   "id": "534befb6",
   "metadata": {},
   "outputs": [
    {
     "name": "stdout",
     "output_type": "stream",
     "text": [
      "John\n",
      "20\n",
      "height \n"
     ]
    }
   ],
   "source": [
    "# instance variable or atribute of class\n",
    "print(john.name)\n",
    "print(john.age)\n",
    "print(\"height\", john.height)"
   ]
  },
  {
   "cell_type": "code",
   "execution_count": 58,
   "id": "66239292",
   "metadata": {},
   "outputs": [
    {
     "name": "stdout",
     "output_type": "stream",
     "text": [
      "name John\n",
      "age 20\n"
     ]
    }
   ],
   "source": [
    "# accessing class method\n",
    "john.print_person_info()"
   ]
  },
  {
   "cell_type": "code",
   "execution_count": 59,
   "id": "46f1a2eb",
   "metadata": {},
   "outputs": [
    {
     "name": "stdout",
     "output_type": "stream",
     "text": [
      "name changed from John to John Doe\n"
     ]
    }
   ],
   "source": [
    "john.change_name(\"John Doe\")"
   ]
  },
  {
   "cell_type": "code",
   "execution_count": 60,
   "id": "997c308f",
   "metadata": {},
   "outputs": [
    {
     "name": "stdout",
     "output_type": "stream",
     "text": [
      "name John Doe\n",
      "age 20\n"
     ]
    }
   ],
   "source": [
    "john.print_person_info()"
   ]
  },
  {
   "cell_type": "code",
   "execution_count": 76,
   "id": "2dcbd5fb",
   "metadata": {},
   "outputs": [],
   "source": [
    "# Inhenritance\n",
    "class SoftwareEngineer(Person):\n",
    "    \n",
    "    def __init__(self, name, age, occupation, skills):\n",
    "        super(SoftwareEngineer, self).__init__(name, age)\n",
    "        self.occupation = occupation\n",
    "        self.skills = skills\n",
    "        \n",
    "    def add_skill(self, skill):\n",
    "        self.skills.append(skill)\n",
    "        \n",
    "    def remove_skill(self, skill):\n",
    "        self.skills.remove(skill)\n",
    "        "
   ]
  },
  {
   "cell_type": "code",
   "execution_count": 77,
   "id": "3086d437",
   "metadata": {},
   "outputs": [],
   "source": [
    "swe = SoftwareEngineer(\"Abel\", 22, \"frontend engineer\", [\"react\", \"javascript\"])"
   ]
  },
  {
   "cell_type": "code",
   "execution_count": 78,
   "id": "9bb891ba",
   "metadata": {},
   "outputs": [
    {
     "data": {
      "text/plain": [
       "['react', 'javascript']"
      ]
     },
     "execution_count": 78,
     "metadata": {},
     "output_type": "execute_result"
    }
   ],
   "source": [
    "swe.skills"
   ]
  },
  {
   "cell_type": "code",
   "execution_count": 79,
   "id": "85b4d654",
   "metadata": {},
   "outputs": [
    {
     "data": {
      "text/plain": [
       "['react', 'javascript', 'HTML']"
      ]
     },
     "execution_count": 79,
     "metadata": {},
     "output_type": "execute_result"
    }
   ],
   "source": [
    "swe.add_skill(\"HTML\")\n",
    "swe.skills"
   ]
  },
  {
   "cell_type": "code",
   "execution_count": 80,
   "id": "628a92b9",
   "metadata": {},
   "outputs": [
    {
     "data": {
      "text/plain": [
       "['javascript', 'HTML']"
      ]
     },
     "execution_count": 80,
     "metadata": {},
     "output_type": "execute_result"
    }
   ],
   "source": [
    "swe.remove_skill(\"react\")\n",
    "swe.skills"
   ]
  }
 ],
 "metadata": {
  "kernelspec": {
   "display_name": "Python 3 (ipykernel)",
   "language": "python",
   "name": "python3"
  },
  "language_info": {
   "codemirror_mode": {
    "name": "ipython",
    "version": 3
   },
   "file_extension": ".py",
   "mimetype": "text/x-python",
   "name": "python",
   "nbconvert_exporter": "python",
   "pygments_lexer": "ipython3",
   "version": "3.10.9"
  }
 },
 "nbformat": 4,
 "nbformat_minor": 5
}
