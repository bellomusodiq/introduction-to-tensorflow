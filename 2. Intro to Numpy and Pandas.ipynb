{
 "cells": [
  {
   "cell_type": "markdown",
   "id": "0bffeb39",
   "metadata": {},
   "source": [
    "## Numpy\n",
    "\n",
    "NumPy, which stands for Numerical Python, is a library consisting of multidimensional array objects and a collection of routines for processing those arrays. Using NumPy, mathematical and logical operations on arrays can be performed. This tutorial explains the basics of NumPy such as its architecture and environment. It also discusses the various array functions, types of indexing, etc. An introduction to Matplotlib is also provided. All this is explained with the help of examples for better understanding.\n",
    "\n",
    "Comparison between python list and a numpy array\n",
    "\n",
    "https://www.geeksforgeeks.org/python-lists-vs-numpy-arrays/\n",
    "\n",
    "Learning resources \n",
    "\n",
    "https://www.youtube.com/watch?v=QUT1VHiLmmI\n",
    "\n",
    "https://www.tutorialspoint.com/numpy/index.htm"
   ]
  },
  {
   "cell_type": "code",
   "execution_count": 1,
   "id": "fd7c8566",
   "metadata": {},
   "outputs": [],
   "source": [
    "import numpy as np"
   ]
  },
  {
   "cell_type": "code",
   "execution_count": 3,
   "id": "2db97f20",
   "metadata": {},
   "outputs": [
    {
     "data": {
      "text/plain": [
       "array([1, 2, 3])"
      ]
     },
     "execution_count": 3,
     "metadata": {},
     "output_type": "execute_result"
    }
   ],
   "source": [
    "python_list = [1, 2, 3]\n",
    "numpy_arr = np.array(python_list)\n",
    "numpy_arr"
   ]
  },
  {
   "cell_type": "code",
   "execution_count": 4,
   "id": "a458290b",
   "metadata": {},
   "outputs": [
    {
     "name": "stdout",
     "output_type": "stream",
     "text": [
      "[1 2 3]\n",
      "<class 'numpy.ndarray'>\n"
     ]
    }
   ],
   "source": [
    "a = np.array([1, 2, 3])\n",
    "print(a)\n",
    "print(type(a))"
   ]
  },
  {
   "cell_type": "code",
   "execution_count": 5,
   "id": "8661f3d8",
   "metadata": {},
   "outputs": [
    {
     "name": "stdout",
     "output_type": "stream",
     "text": [
      "[[ 1  3  4]\n",
      " [-2  1 -1]\n",
      " [ 0  4  5]]\n"
     ]
    }
   ],
   "source": [
    "# 2D-array\n",
    "b = np.array([\n",
    "    [1, 3, 4],\n",
    "    [-2, 1, -1],\n",
    "    [0, 4, 5]\n",
    "])\n",
    "print(b)"
   ]
  },
  {
   "cell_type": "code",
   "execution_count": 6,
   "id": "55ced2ae",
   "metadata": {},
   "outputs": [
    {
     "data": {
      "text/plain": [
       "dtype('int64')"
      ]
     },
     "execution_count": 6,
     "metadata": {},
     "output_type": "execute_result"
    }
   ],
   "source": [
    "b.dtype"
   ]
  },
  {
   "cell_type": "code",
   "execution_count": 7,
   "id": "0cf22d41",
   "metadata": {},
   "outputs": [],
   "source": [
    "c = np.array([\n",
    "    [1, 3, 4],\n",
    "    [-2, 1, -1],\n",
    "    [0, 4, 5]\n",
    "], dtype=np.float16)"
   ]
  },
  {
   "cell_type": "code",
   "execution_count": 8,
   "id": "1ddd3a12",
   "metadata": {},
   "outputs": [
    {
     "data": {
      "text/plain": [
       "dtype('float16')"
      ]
     },
     "execution_count": 8,
     "metadata": {},
     "output_type": "execute_result"
    }
   ],
   "source": [
    "c.dtype"
   ]
  },
  {
   "cell_type": "code",
   "execution_count": 9,
   "id": "d5884288",
   "metadata": {},
   "outputs": [
    {
     "data": {
      "text/plain": [
       "array([[ 1.,  3.,  4.],\n",
       "       [-2.,  1., -1.],\n",
       "       [ 0.,  4.,  5.]], dtype=float16)"
      ]
     },
     "execution_count": 9,
     "metadata": {},
     "output_type": "execute_result"
    }
   ],
   "source": [
    "c"
   ]
  },
  {
   "cell_type": "code",
   "execution_count": 37,
   "id": "8c25c6d4",
   "metadata": {},
   "outputs": [
    {
     "data": {
      "text/plain": [
       "array([[[0.79599262, 0.3613093 ],\n",
       "        [0.50962542, 0.46094019]],\n",
       "\n",
       "       [[0.23563043, 0.4175063 ],\n",
       "        [0.28896607, 0.77603755]]])"
      ]
     },
     "execution_count": 37,
     "metadata": {},
     "output_type": "execute_result"
    }
   ],
   "source": [
    "np.random.random((2,2,2))"
   ]
  },
  {
   "cell_type": "code",
   "execution_count": 38,
   "id": "d8824b1c",
   "metadata": {},
   "outputs": [
    {
     "data": {
      "text/plain": [
       "(30, 5, 3)"
      ]
     },
     "execution_count": 38,
     "metadata": {},
     "output_type": "execute_result"
    }
   ],
   "source": [
    "# shape\n",
    "d = np.random.random((30, 5, 3))\n",
    "d.shape"
   ]
  },
  {
   "cell_type": "code",
   "execution_count": 39,
   "id": "17b6146b",
   "metadata": {},
   "outputs": [
    {
     "name": "stdout",
     "output_type": "stream",
     "text": [
      "(3,)\n",
      "(3, 3)\n",
      "(3, 3)\n"
     ]
    }
   ],
   "source": [
    "print(a.shape)\n",
    "print(b.shape)\n",
    "print(c.shape)"
   ]
  },
  {
   "cell_type": "code",
   "execution_count": 41,
   "id": "2f46fc95",
   "metadata": {},
   "outputs": [
    {
     "data": {
      "text/plain": [
       "array([[1],\n",
       "       [2],\n",
       "       [3]])"
      ]
     },
     "execution_count": 41,
     "metadata": {},
     "output_type": "execute_result"
    }
   ],
   "source": [
    "a.reshape((3, 1))"
   ]
  },
  {
   "cell_type": "code",
   "execution_count": 45,
   "id": "f8199ade",
   "metadata": {},
   "outputs": [
    {
     "data": {
      "text/plain": [
       "array([[[1, 2, 3]]])"
      ]
     },
     "execution_count": 45,
     "metadata": {},
     "output_type": "execute_result"
    }
   ],
   "source": [
    "a.reshape((1, 1, 3))"
   ]
  },
  {
   "cell_type": "code",
   "execution_count": 46,
   "id": "30bf2d3f",
   "metadata": {},
   "outputs": [
    {
     "data": {
      "text/plain": [
       "array([[[1]],\n",
       "\n",
       "       [[2]],\n",
       "\n",
       "       [[3]]])"
      ]
     },
     "execution_count": 46,
     "metadata": {},
     "output_type": "execute_result"
    }
   ],
   "source": [
    "a.reshape((3,1,1))"
   ]
  },
  {
   "cell_type": "code",
   "execution_count": 47,
   "id": "876d2b19",
   "metadata": {},
   "outputs": [
    {
     "data": {
      "text/plain": [
       "array([ 1,  3,  4, -2,  1, -1,  0,  4,  5])"
      ]
     },
     "execution_count": 47,
     "metadata": {},
     "output_type": "execute_result"
    }
   ],
   "source": [
    "b.reshape((-1))"
   ]
  },
  {
   "cell_type": "code",
   "execution_count": 51,
   "id": "259ed48e",
   "metadata": {},
   "outputs": [
    {
     "name": "stdout",
     "output_type": "stream",
     "text": [
      "(3, 2)\n",
      "[[3 9]\n",
      " [5 6]\n",
      " [2 3]]\n",
      "(2, 3)\n",
      "[[3 9 5]\n",
      " [6 2 3]]\n"
     ]
    }
   ],
   "source": [
    "e = np.random.randint(1, 10, (3,2))\n",
    "print(e.shape)\n",
    "print(e)\n",
    "e = e.reshape((2,3))\n",
    "print(e.shape)\n",
    "print(e)"
   ]
  },
  {
   "cell_type": "code",
   "execution_count": 49,
   "id": "1dc683db",
   "metadata": {},
   "outputs": [
    {
     "data": {
      "text/plain": [
       "array([[[0.0879769 ],\n",
       "        [0.36042174]],\n",
       "\n",
       "       [[0.34766508],\n",
       "        [0.87148654]],\n",
       "\n",
       "       [[0.33995668],\n",
       "        [0.91738028]]])"
      ]
     },
     "execution_count": 49,
     "metadata": {},
     "output_type": "execute_result"
    }
   ],
   "source": [
    "e.reshape((3,2,1))"
   ]
  },
  {
   "cell_type": "code",
   "execution_count": null,
   "id": "4e199212",
   "metadata": {},
   "outputs": [],
   "source": [
    "# indexing and slicing\n",
    "print(a[0])\n",
    "print(a[1])\n",
    "print(a[2])"
   ]
  },
  {
   "cell_type": "code",
   "execution_count": null,
   "id": "6c5d5d4f",
   "metadata": {},
   "outputs": [],
   "source": [
    "a[:2]"
   ]
  },
  {
   "cell_type": "code",
   "execution_count": null,
   "id": "7a8b75f1",
   "metadata": {},
   "outputs": [],
   "source": [
    "a[1:]"
   ]
  },
  {
   "cell_type": "code",
   "execution_count": null,
   "id": "af7692eb",
   "metadata": {},
   "outputs": [],
   "source": [
    "print(b[0,0])\n",
    "print(b[1,0])\n",
    "print(b[2,2])"
   ]
  },
  {
   "cell_type": "code",
   "execution_count": null,
   "id": "8de41c40",
   "metadata": {},
   "outputs": [],
   "source": [
    "b[:, :2]"
   ]
  },
  {
   "cell_type": "code",
   "execution_count": null,
   "id": "78823c8b",
   "metadata": {},
   "outputs": [],
   "source": [
    "b[1:, :2]"
   ]
  },
  {
   "cell_type": "code",
   "execution_count": null,
   "id": "176a0536",
   "metadata": {},
   "outputs": [],
   "source": [
    "b[:, 0]"
   ]
  },
  {
   "cell_type": "code",
   "execution_count": null,
   "id": "4f6b5f29",
   "metadata": {},
   "outputs": [],
   "source": [
    "# concatenation\n",
    "a = np.random.rand(6, 3)\n",
    "print(a)\n",
    "print(a.shape)\n",
    "b = np.random.rand(11, 3)\n",
    "print(b)\n",
    "print(b.shape)"
   ]
  },
  {
   "cell_type": "code",
   "execution_count": null,
   "id": "8c20252d",
   "metadata": {
    "scrolled": true
   },
   "outputs": [],
   "source": [
    "c = np.concatenate((a, b), axis=0)\n",
    "print(c)\n",
    "print(c.shape)"
   ]
  },
  {
   "cell_type": "code",
   "execution_count": null,
   "id": "c9d3bd5b",
   "metadata": {},
   "outputs": [],
   "source": [
    "a = np.random.rand(10,3)\n",
    "print(a)\n",
    "print(a.shape)\n",
    "b = np.random.rand(10, 5)\n",
    "print(b.shape)\n",
    "c = np.concatenate((a,b), axis=1)\n",
    "print(c)\n",
    "print(c.shape)"
   ]
  },
  {
   "cell_type": "code",
   "execution_count": null,
   "id": "e0faf512",
   "metadata": {},
   "outputs": [],
   "source": [
    "# arithmetic\n",
    "a = np.array([1, 2, 3])\n",
    "2 * a"
   ]
  },
  {
   "cell_type": "code",
   "execution_count": null,
   "id": "f22656ea",
   "metadata": {},
   "outputs": [],
   "source": [
    "print(a.mean())\n",
    "print(a.min())\n",
    "print(a.max())\n",
    "print(np.argmax(a))"
   ]
  },
  {
   "cell_type": "code",
   "execution_count": null,
   "id": "3f53dda2",
   "metadata": {},
   "outputs": [],
   "source": [
    "a = np.array([\n",
    "    [1, 4, 5],\n",
    "    [2, 3, 1]\n",
    "])\n",
    "print(a)"
   ]
  },
  {
   "cell_type": "code",
   "execution_count": null,
   "id": "97960192",
   "metadata": {},
   "outputs": [],
   "source": [
    "a.mean(axis=0)"
   ]
  },
  {
   "cell_type": "code",
   "execution_count": null,
   "id": "1e071938",
   "metadata": {},
   "outputs": [],
   "source": [
    "a.mean(axis=1)"
   ]
  },
  {
   "cell_type": "code",
   "execution_count": null,
   "id": "f5d8fe42",
   "metadata": {},
   "outputs": [],
   "source": [
    "a.mean()"
   ]
  },
  {
   "cell_type": "code",
   "execution_count": null,
   "id": "431c7717",
   "metadata": {},
   "outputs": [],
   "source": [
    "a = np.array([\n",
    "    [1, 2, 3],\n",
    "    [3, 2, 1],\n",
    "    [1, 2, 3]\n",
    "])\n",
    "b = np.array([\n",
    "    [5, 4, 3],\n",
    "    [3, 2, 1],\n",
    "    [1, 2, 3]\n",
    "])\n",
    "a + b"
   ]
  },
  {
   "cell_type": "code",
   "execution_count": null,
   "id": "0ccf3919",
   "metadata": {},
   "outputs": [],
   "source": [
    "# comparison\n",
    "a = np.array([1, 2, 3, 4, 5, 6, 7])\n",
    "# produces mask array\n",
    "a > 3"
   ]
  },
  {
   "cell_type": "code",
   "execution_count": null,
   "id": "96e012af",
   "metadata": {},
   "outputs": [],
   "source": [
    "# can filter using mask array \n",
    "a[a > 3]"
   ]
  },
  {
   "cell_type": "markdown",
   "id": "a45e3b04",
   "metadata": {},
   "source": [
    "### Pandas\n",
    "\n",
    "Pandas provides easy-to-use data structures and data analysis tools for the Python programming language"
   ]
  },
  {
   "cell_type": "code",
   "execution_count": null,
   "id": "6d32458d",
   "metadata": {},
   "outputs": [],
   "source": [
    "import pandas as pd"
   ]
  },
  {
   "cell_type": "code",
   "execution_count": null,
   "id": "d3a03040",
   "metadata": {},
   "outputs": [],
   "source": [
    "# pandas series\n",
    "series = pd.Series([1, 2, 3, 4, 5])\n",
    "series"
   ]
  },
  {
   "cell_type": "code",
   "execution_count": null,
   "id": "eca7ddc0",
   "metadata": {},
   "outputs": [],
   "source": [
    "series[0]"
   ]
  },
  {
   "cell_type": "code",
   "execution_count": null,
   "id": "0dda9170",
   "metadata": {},
   "outputs": [],
   "source": [
    "series.values # converts to numpy array"
   ]
  },
  {
   "cell_type": "code",
   "execution_count": null,
   "id": "dd65707e",
   "metadata": {},
   "outputs": [],
   "source": [
    "series > 3"
   ]
  },
  {
   "cell_type": "code",
   "execution_count": null,
   "id": "d489bbca",
   "metadata": {},
   "outputs": [],
   "source": [
    "series[series > 3]"
   ]
  },
  {
   "cell_type": "code",
   "execution_count": null,
   "id": "727747d4",
   "metadata": {},
   "outputs": [],
   "source": [
    "# pandas dataframe\n",
    "data = {\n",
    "    'Name': ['John', 'Alice', 'Bob', 'Eve'],\n",
    "    'Age': [30, 25, 35, 28],\n",
    "    'City': ['New York', 'Los Angeles', 'Chicago', 'San Francisco']\n",
    "}\n",
    "\n",
    "# Create a DataFrame from the dictionary\n",
    "people_df = pd.DataFrame(data)\n",
    "people_df"
   ]
  },
  {
   "cell_type": "code",
   "execution_count": null,
   "id": "90ca4695",
   "metadata": {},
   "outputs": [],
   "source": [
    "# changing index from numbers 0 - 3 to name column\n",
    "people_df.set_index(\"Name\", inplace=True)\n",
    "people_df"
   ]
  },
  {
   "cell_type": "code",
   "execution_count": null,
   "id": "03571560",
   "metadata": {},
   "outputs": [],
   "source": [
    "# displaying first nth rows\n",
    "people_df.head()"
   ]
  },
  {
   "cell_type": "code",
   "execution_count": null,
   "id": "c9b568b0",
   "metadata": {
    "scrolled": true
   },
   "outputs": [],
   "source": [
    "people_df.tail()"
   ]
  },
  {
   "cell_type": "code",
   "execution_count": null,
   "id": "b11fd3cb",
   "metadata": {},
   "outputs": [],
   "source": [
    "# column selection\n",
    "people_df[\"Age\"]"
   ]
  },
  {
   "cell_type": "code",
   "execution_count": null,
   "id": "bb0fda49",
   "metadata": {},
   "outputs": [],
   "source": [
    "people_df[\"City\"]"
   ]
  },
  {
   "cell_type": "code",
   "execution_count": null,
   "id": "48b3fd36",
   "metadata": {},
   "outputs": [],
   "source": [
    "# item selection\n",
    "people_df[\"Age\"][\"John\"]"
   ]
  },
  {
   "cell_type": "code",
   "execution_count": null,
   "id": "f3999268",
   "metadata": {},
   "outputs": [],
   "source": [
    "print(people_df.index)\n",
    "print(people_df.columns)"
   ]
  },
  {
   "cell_type": "code",
   "execution_count": null,
   "id": "ca83e2ab",
   "metadata": {},
   "outputs": [],
   "source": [
    "# delete rows and columns\n",
    "series = pd.Series([1, 2, 3, 4, 5], index=list(\"abcde\"))\n",
    "print(series)\n",
    "series.drop(\"d\", inplace=True)\n",
    "series"
   ]
  },
  {
   "cell_type": "code",
   "execution_count": null,
   "id": "3f89e960",
   "metadata": {},
   "outputs": [],
   "source": [
    "people_df.drop(\"Eve\", inplace=True)\n",
    "print(people_df)"
   ]
  },
  {
   "cell_type": "code",
   "execution_count": null,
   "id": "eca7df8d",
   "metadata": {},
   "outputs": [],
   "source": [
    "people_df.drop(\"Age\", axis=1, inplace=True)\n",
    "people_df"
   ]
  },
  {
   "cell_type": "code",
   "execution_count": null,
   "id": "25c07e7b",
   "metadata": {},
   "outputs": [],
   "source": [
    "# slicing and flitering\n",
    "# Define lists for each column\n",
    "names = ['Alice', 'Bob', 'Charlie', 'David', 'Eve', 'Frank', 'Grace', 'Helen', 'Isabel', 'Jack']\n",
    "ages = [28, 35, 42, 30, 22, 39, 45, 29, 32, 37]\n",
    "genders = ['Female', 'Male', 'Female', 'Male', 'Female', 'Male', 'Female', 'Female', 'Female', 'Male']\n",
    "cities = ['New York', 'Los Angeles', 'Chicago', 'San Francisco', 'Boston', 'Miami', 'Dallas', 'Seattle', 'Denver', 'Atlanta']\n",
    "occupations = ['Engineer', 'Teacher', 'Doctor', 'Artist', 'Student', 'Lawyer', 'Nurse', 'Chef', 'Software Developer', 'Salesperson']\n",
    "incomes = [60000, 45000, 90000, 35000, 20000, 75000, 55000, 62000, 80000, 40000]\n",
    "marital_statuses = ['Married', 'Single', 'Divorced', 'Single', 'Married', 'Married', 'Single', 'Single', 'Married', 'Divorced']\n",
    "\n",
    "# Create a DataFrame from the lists\n",
    "people_df = pd.DataFrame({\n",
    "    'Name': names,\n",
    "    'Age': ages,\n",
    "    'Gender': genders,\n",
    "    'City': cities,\n",
    "    'Occupation': occupations,\n",
    "    'Income': incomes,\n",
    "    'Marital Status': marital_statuses\n",
    "})\n",
    "\n",
    "# Display the DataFrame\n",
    "people_df"
   ]
  },
  {
   "cell_type": "code",
   "execution_count": null,
   "id": "3e681a8a",
   "metadata": {},
   "outputs": [],
   "source": [
    "people_df.set_index(people_df[\"Name\"], inplace=True)\n",
    "people_df"
   ]
  },
  {
   "cell_type": "code",
   "execution_count": null,
   "id": "0f94c818",
   "metadata": {},
   "outputs": [],
   "source": [
    "# select multiple columns\n",
    "people_df[[\"Name\", \"City\"]]"
   ]
  },
  {
   "cell_type": "code",
   "execution_count": null,
   "id": "cb067615",
   "metadata": {},
   "outputs": [],
   "source": [
    "people_df[[\"Name\", \"Age\", \"Occupation\"]]"
   ]
  },
  {
   "cell_type": "code",
   "execution_count": null,
   "id": "efa5d306",
   "metadata": {},
   "outputs": [],
   "source": [
    "# index name based selecting row\n",
    "people_df.loc[[\"Alice\", \"Eve\", \"Jack\"]]"
   ]
  },
  {
   "cell_type": "code",
   "execution_count": null,
   "id": "42e39c52",
   "metadata": {},
   "outputs": [],
   "source": [
    "# index name based rows selection and coloumn selection\n",
    "people_df.loc[[\"Alice\", \"Eve\", \"Jack\"], [\"Age\", \"Occupation\", \"Marital Status\"]]"
   ]
  },
  {
   "cell_type": "code",
   "execution_count": null,
   "id": "48d7e051",
   "metadata": {},
   "outputs": [],
   "source": [
    "# index based selection for column\n",
    "people_df.iloc[:, [0, 3, 5]]"
   ]
  },
  {
   "cell_type": "code",
   "execution_count": null,
   "id": "7883fdf1",
   "metadata": {},
   "outputs": [],
   "source": [
    "# index based selection for column\n",
    "people_df.iloc[[0, 4, 9], :]"
   ]
  },
  {
   "cell_type": "code",
   "execution_count": null,
   "id": "983fab3d",
   "metadata": {},
   "outputs": [],
   "source": [
    "# index based selection for column and rows\n",
    "people_df.iloc[[0, 4, 9], [0, 3, 5]]"
   ]
  },
  {
   "cell_type": "code",
   "execution_count": null,
   "id": "ee7159f2",
   "metadata": {},
   "outputs": [],
   "source": [
    "# filtering\n",
    "people_df"
   ]
  },
  {
   "cell_type": "code",
   "execution_count": null,
   "id": "510749c9",
   "metadata": {},
   "outputs": [],
   "source": [
    "bool_mask = people_df[\"Age\"] >= 39\n",
    "print(bool_mask)"
   ]
  },
  {
   "cell_type": "code",
   "execution_count": null,
   "id": "2b595802",
   "metadata": {},
   "outputs": [],
   "source": [
    "people_df[bool_mask]"
   ]
  },
  {
   "cell_type": "code",
   "execution_count": null,
   "id": "cd7e6316",
   "metadata": {},
   "outputs": [],
   "source": [
    "# arithmethic with data frame\n",
    "people_df[\"Age\"] -= 2\n",
    "people_df"
   ]
  },
  {
   "cell_type": "code",
   "execution_count": null,
   "id": "eb4be52b",
   "metadata": {},
   "outputs": [],
   "source": [
    "people_df.describe()"
   ]
  },
  {
   "cell_type": "markdown",
   "id": "cbcb11be",
   "metadata": {},
   "source": [
    "### Loading csv files with pandas"
   ]
  },
  {
   "cell_type": "code",
   "execution_count": null,
   "id": "a3a2e6d3",
   "metadata": {},
   "outputs": [],
   "source": [
    "ecommerce_df = pd.read_csv(\"./ecommerce_customer_data_large.csv\", sep=\",\")\n",
    "ecommerce_df.head(10)"
   ]
  },
  {
   "cell_type": "code",
   "execution_count": null,
   "id": "8f21b364",
   "metadata": {},
   "outputs": [],
   "source": [
    "# grouping based on a column e.g. group product category\n",
    "groups = ecommerce_df.groupby(\"Product Category\").groups\n",
    "groups"
   ]
  },
  {
   "cell_type": "code",
   "execution_count": null,
   "id": "c4ed2a25",
   "metadata": {},
   "outputs": [],
   "source": [
    "print(groups.keys())"
   ]
  },
  {
   "cell_type": "code",
   "execution_count": null,
   "id": "a5ee5e80",
   "metadata": {},
   "outputs": [],
   "source": [
    "# selecting rows based on the Books index\n",
    "ecommerce_df.iloc[groups[\"Books\"], :]"
   ]
  },
  {
   "cell_type": "code",
   "execution_count": null,
   "id": "4ba01aad",
   "metadata": {},
   "outputs": [],
   "source": [
    "# missing values\n",
    "ecommerce_df.isna().any()"
   ]
  },
  {
   "cell_type": "code",
   "execution_count": null,
   "id": "12531362",
   "metadata": {},
   "outputs": [],
   "source": [
    "ecommerce_df.describe()"
   ]
  },
  {
   "cell_type": "code",
   "execution_count": null,
   "id": "f0c59772",
   "metadata": {},
   "outputs": [],
   "source": [
    "# converting pandas dataframe to numpy array\n",
    "intrests = ecommerce_df[[\"Product Price\", \"Quantity\", \"Total Purchase Amount\", \"Customer Age\", \"Returns\"]]\n",
    "intrests"
   ]
  },
  {
   "cell_type": "code",
   "execution_count": null,
   "id": "840659c2",
   "metadata": {},
   "outputs": [],
   "source": [
    "intrests.fillna(0.0)"
   ]
  },
  {
   "cell_type": "code",
   "execution_count": null,
   "id": "19514879",
   "metadata": {},
   "outputs": [],
   "source": [
    "interests_array = intrests.values\n",
    "print(type(interests_array))\n",
    "interests_array"
   ]
  }
 ],
 "metadata": {
  "kernelspec": {
   "display_name": "Python 3 (ipykernel)",
   "language": "python",
   "name": "python3"
  },
  "language_info": {
   "codemirror_mode": {
    "name": "ipython",
    "version": 3
   },
   "file_extension": ".py",
   "mimetype": "text/x-python",
   "name": "python",
   "nbconvert_exporter": "python",
   "pygments_lexer": "ipython3",
   "version": "3.10.9"
  }
 },
 "nbformat": 4,
 "nbformat_minor": 5
}
